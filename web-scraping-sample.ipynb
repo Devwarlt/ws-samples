{
 "cells": [
  {
   "cell_type": "code",
   "execution_count": 2,
   "metadata": {},
   "outputs": [],
   "source": [
    "from splinter import Browser\n",
    "from selenium import webdriver"
   ]
  },
  {
   "cell_type": "code",
   "execution_count": 25,
   "metadata": {},
   "outputs": [
    {
     "name": "stdout",
     "output_type": "stream",
     "text": [
      "Acessando a URL -> https://directory.fsf.org/wiki/Main_Page\n",
      "\n",
      "Procurando elementos-chave...\n",
      "Carregando resultados...\n",
      "\n",
      "Resposta -> nenhum resultado foi encontrado!\n",
      "\n",
      "Sessão atual terminada.\n"
     ]
    }
   ],
   "source": [
    "url = 'https://directory.fsf.org/wiki/Main_Page'\n",
    "browser_engine = \"chrome\"\n",
    "search_str = \"aduhaushduannadsf\"\n",
    "is_headless = True\n",
    "\n",
    "chromedriver_path = {\n",
    "    'executable_path':r'C:\\Users\\devwarlt\\Desktop\\Faculdade\\UNB - Pesquisador (arqs)\\Web Scraping\\chromedriver'\n",
    "}\n",
    "\n",
    "options = webdriver.ChromeOptions()\n",
    "options.add_argument(\"--start-maximized\")\n",
    "\n",
    "browser = Browser(\n",
    "    browser_engine,\n",
    "    **chromedriver_path,\n",
    "    headless = is_headless,\n",
    "    options = options\n",
    ")\n",
    "\n",
    "print(\"Acessando a URL -> {}\".format(url))\n",
    "\n",
    "browser.visit(url)\n",
    "\n",
    "print(\"\\nProcurando elementos-chave...\")\n",
    "\n",
    "search_fsd_input = browser.find_by_id(\"searchInput\").first\n",
    "search_fsd_input.fill(search_str)\n",
    "\n",
    "search_btn = browser.find_by_id(\"mw-searchButton\").first\n",
    "search_btn.click()\n",
    "\n",
    "print(\"Carregando resultados...\")\n",
    "\n",
    "results = browser.find_by_css(\".mw-search-result-heading\")\n",
    "size = len(results)\n",
    "msg = \"\\nResposta -> {pattern}\"\n",
    "\n",
    "if size == 0:\n",
    "    msg = msg.format(pattern = \"nenhum resultado foi encontrado!\")\n",
    "else:\n",
    "    msg = msg.format(pattern = \"fo{0} encontrado{1} {2} resultado{1}\")\n",
    "    msg = msg.format(\n",
    "        \"ram\" if size > 1 else \"i\",\n",
    "        \"s\" if size > 1 else \"\",\n",
    "        size\n",
    "    )\n",
    "\n",
    "print(msg)\n",
    "print(\"\\nSessão atual terminada.\")\n",
    "\n",
    "browser.quit()"
   ]
  }
 ],
 "metadata": {
  "kernelspec": {
   "display_name": "Python 3",
   "language": "python",
   "name": "python3"
  },
  "language_info": {
   "codemirror_mode": {
    "name": "ipython",
    "version": 3
   },
   "file_extension": ".py",
   "mimetype": "text/x-python",
   "name": "python",
   "nbconvert_exporter": "python",
   "pygments_lexer": "ipython3",
   "version": "3.8.3"
  }
 },
 "nbformat": 4,
 "nbformat_minor": 4
}
