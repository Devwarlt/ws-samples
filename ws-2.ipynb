{
 "cells": [
  {
   "cell_type": "code",
   "execution_count": 1,
   "metadata": {},
   "outputs": [],
   "source": [
    "from splinter import Browser\n",
    "from selenium.common.exceptions import NoSuchElementException, TimeoutException\n",
    "from selenium import webdriver\n",
    "from selenium.webdriver.common.by import By\n",
    "from selenium.webdriver.chrome.webdriver import WebDriver\n",
    "from selenium.webdriver.support import expected_conditions as EC\n",
    "from selenium.webdriver.support.ui import WebDriverWait\n",
    "from selenium.webdriver.remote.webelement import WebElement\n",
    "from typing import Callable as function\n",
    "import time, re, sys"
   ]
  },
  {
   "cell_type": "code",
   "execution_count": 2,
   "metadata": {},
   "outputs": [],
   "source": [
    "MAX_PERSIST_ATTEMPTS = 10\n",
    "\n",
    "def select_option_by_value(select:WebElement, val:str)->type(None):\n",
    "    pattern = re.compile(r\"^.*(){str}$\".format(str=val))\n",
    "    select.click()\n",
    "    options = select.find_elements_by_tag_name('option')\n",
    "    for i in range(0, len(options)):\n",
    "        option = options[i]\n",
    "        if pattern.match(option.text):\n",
    "            option.click()\n",
    "            break\n",
    "\n",
    "def persist_find_elements_async(\n",
    "    browser:Browser, locator:tuple, visible:bool, predicate:function,\n",
    "    timeout:int = 3, show_progress:bool = True\n",
    ")->type(list):\n",
    "    elements = None\n",
    "    for i in range(0, MAX_PERSIST_ATTEMPTS):\n",
    "        if show_progress:\n",
    "            print(\n",
    "                \"Attempt {} of {} [locator: {}]...\"\\\n",
    "                .format(i + 1, MAX_PERSIST_ATTEMPTS, locator)\n",
    "            )\n",
    "        elements = find_elements_async(browser, locator, visible, timeout, False)\n",
    "        if predicate(elements):\n",
    "            break\n",
    "        time.sleep(1) # awaits 1 second to proceed to next check\n",
    "    return elements\n",
    "            \n",
    "def find_elements_async(\n",
    "    browser:Browser, locator:tuple, visible:bool,\n",
    "    timeout:int = 3, show_exceptions:bool = True\n",
    ")->type(list):\n",
    "    try:\n",
    "        if visible:\n",
    "            return WebDriverWait(browser.driver, timeout).until(EC.visibility_of_all_elements_located(locator))\n",
    "        else:\n",
    "            return WebDriverWait(browser.driver, timeout).until(EC.presence_of_all_elements_located(locator))\n",
    "    except NoSuchElementException:\n",
    "        if show_exceptions:\n",
    "            print(\n",
    "                \"No such element found! Locator: '{}'.\"\\\n",
    "                .format(locator)\n",
    "            )\n",
    "    except TimeoutException:\n",
    "        if show_exceptions:\n",
    "            print(\n",
    "                \"Async timeout exceeded {}s! Locator: '{}'.\"\\\n",
    "                .format(timeout, locator)\n",
    "            )\n",
    "    except Exception:\n",
    "        if show_exceptions:\n",
    "            print(\n",
    "                \"Unhandled exception! Locator: '{}'.\\n\\nException:\\n{}\"\\\n",
    "                .format(locator, err)\n",
    "            )\n",
    "    return None\n",
    "\n",
    "def handle_single(browser:Browser, label:str, elements:list)->type(None):\n",
    "    if not elements is None and len(elements) > 0:\n",
    "        elements[0].click()\n",
    "    else:\n",
    "        browser.quit()\n",
    "        sys.exit(\n",
    "            \"Element '{}' not found! Cannot proceed.\"\\\n",
    "            .format(label)\n",
    "        )"
   ]
  },
  {
   "cell_type": "code",
   "execution_count": 3,
   "metadata": {},
   "outputs": [],
   "source": [
    "# Init Settings\n",
    "url = \"https://ieeexplore.ieee.org/Xplore/home.jsp\"\n",
    "is_headless = False\n",
    "search_opts = {\n",
    "    'item-1': {\n",
    "        'query': \"web scraping\",\n",
    "        'option': \"Abstract\"\n",
    "    },\n",
    "    'item-2': {\n",
    "        'query': \"python\",\n",
    "        'option': \"Abstract\"\n",
    "    },\n",
    "    'from': 2010,\n",
    "    'to': 2021\n",
    "}\n",
    "\n",
    "# Chrome Driver Settings\n",
    "options = webdriver.ChromeOptions()\n",
    "options.add_argument(\"--start-maximized\")\n",
    "cdriver_path = { 'executable_path':'chromedriver' }\n",
    "\n",
    "# Browser Settings\n",
    "browser = Browser(\"chrome\", **cdriver_path, headless = is_headless, options = options)"
   ]
  },
  {
   "cell_type": "code",
   "execution_count": 4,
   "metadata": {},
   "outputs": [],
   "source": [
    "# Access page\n",
    "browser.visit(url)"
   ]
  },
  {
   "cell_type": "code",
   "execution_count": 5,
   "metadata": {},
   "outputs": [],
   "source": [
    "banner = find_elements_async(\n",
    "    browser = browser,\n",
    "    locator = (By.CSS_SELECTOR, 'div[class=\"cc-compliance\"] a[class=\"cc-btn cc-dismiss\"]'),\n",
    "    visible = True\n",
    ")\n",
    "handle_single(browser, 'Banner', banner)"
   ]
  },
  {
   "cell_type": "code",
   "execution_count": 6,
   "metadata": {},
   "outputs": [],
   "source": [
    "# Click on Advanced Search\n",
    "browser.links.find_by_partial_href('advanced').click()"
   ]
  },
  {
   "cell_type": "code",
   "execution_count": 7,
   "metadata": {},
   "outputs": [
    {
     "name": "stdout",
     "output_type": "stream",
     "text": [
      "Attempt 1 of 10 [locator: ('tag name', 'form')]...\n",
      "Attempt 2 of 10 [locator: ('tag name', 'form')]...\n",
      "Attempt 3 of 10 [locator: ('tag name', 'form')]...\n",
      "total forms -> 3\n"
     ]
    }
   ],
   "source": [
    "forms = persist_find_elements_async(\n",
    "    browser = browser,\n",
    "    locator = (By.TAG_NAME, 'form'),\n",
    "    visible = False,\n",
    "    predicate = lambda elements : len(elements) == 3,\n",
    "    timeout = 10,\n",
    "    show_progress = True\n",
    ")\n",
    "print(\"total forms -> {}\".format(len(forms)))"
   ]
  },
  {
   "cell_type": "code",
   "execution_count": 8,
   "metadata": {},
   "outputs": [
    {
     "name": "stdout",
     "output_type": "stream",
     "text": [
      "total inputs -> 7\n",
      "total selects -> 5\n"
     ]
    }
   ],
   "source": [
    "# Get valid inputs & selects\n",
    "adv_form = forms[-1]\n",
    "adv_form_inputs = adv_form.find_elements_by_tag_name('input')\n",
    "adv_form_selects = adv_form.find_elements_by_tag_name('select')\n",
    "print(\"total inputs -> {}\".format(len(adv_form_inputs)))\n",
    "print(\"total selects -> {}\".format(len(adv_form_selects)))"
   ]
  },
  {
   "cell_type": "code",
   "execution_count": 9,
   "metadata": {},
   "outputs": [],
   "source": [
    "# Fill specific inputs\n",
    "adv_form_inputs[0].send_keys(search_opts['item-1']['query']);\n",
    "adv_form_inputs[1].send_keys(search_opts['item-2']['query']);"
   ]
  },
  {
   "cell_type": "code",
   "execution_count": 10,
   "metadata": {},
   "outputs": [],
   "source": [
    "# Select specific options\n",
    "select_option_by_value(adv_form_selects[0], search_opts['item-1']['option']);\n",
    "select_option_by_value(adv_form_selects[2], search_opts['item-2']['option']);"
   ]
  },
  {
   "cell_type": "code",
   "execution_count": 11,
   "metadata": {},
   "outputs": [
    {
     "name": "stdout",
     "output_type": "stream",
     "text": [
      "total X btns -> 2\n"
     ]
    }
   ],
   "source": [
    "# Get specific elements to remove\n",
    "adv_form_to_rmv = adv_form.find_elements_by_css_selector('div i[class=\"fa fa-times\"]')\n",
    "print(\"total X btns -> {}\".format(len(adv_form_to_rmv)))"
   ]
  },
  {
   "cell_type": "code",
   "execution_count": 12,
   "metadata": {},
   "outputs": [],
   "source": [
    "# Remove specific element\n",
    "adv_form_to_rmv[-1].click()"
   ]
  },
  {
   "cell_type": "code",
   "execution_count": 13,
   "metadata": {},
   "outputs": [],
   "source": [
    "# Chose 'Specify Year Range' option\n",
    "adv_form.find_element_by_xpath('//span[text()=\"Specify Year Range\"]').click()"
   ]
  },
  {
   "cell_type": "code",
   "execution_count": 14,
   "metadata": {},
   "outputs": [
    {
     "name": "stdout",
     "output_type": "stream",
     "text": [
      "total from-to inputs -> 2\n"
     ]
    }
   ],
   "source": [
    "# Get from-to input fields\n",
    "adv_syr_inputs = adv_form.find_elements_by_css_selector('span[class=\"row\"] span input[type=\"text\"]')\n",
    "print(\"total from-to inputs -> {}\".format(len(adv_syr_inputs)))"
   ]
  },
  {
   "cell_type": "code",
   "execution_count": 15,
   "metadata": {},
   "outputs": [],
   "source": [
    "adv_syr_inputs[0].send_keys(search_opts['from'])\n",
    "adv_syr_inputs[1].send_keys(search_opts['to'])"
   ]
  },
  {
   "cell_type": "code",
   "execution_count": 16,
   "metadata": {},
   "outputs": [],
   "source": [
    "# Search\n",
    "adv_form.find_element_by_css_selector('div[class=\"submit-box\"] button[type=\"submit\"]').click()"
   ]
  },
  {
   "cell_type": "code",
   "execution_count": 17,
   "metadata": {},
   "outputs": [
    {
     "name": "stdout",
     "output_type": "stream",
     "text": [
      "Found results! Displaying 12 of 12\n"
     ]
    }
   ],
   "source": [
    "# Count results\n",
    "query_results = find_elements_async(\n",
    "    browser = browser,\n",
    "    locator = (By.CSS_SELECTOR, 'div[class=\"List-results-items\"]'),\n",
    "    visible = True,\n",
    "    timeout = 10\n",
    ")\n",
    "total_results = 0\n",
    "query_spans = browser.find_by_css(\n",
    "    'section div[class=\"Dashboard-section Dashboard-section-gray\"] ' +\n",
    "    'div[class=\"Dashboard-header col-12\"] span span[class=\"strong\"]'\n",
    ")\n",
    "if len(query_spans) > 1:\n",
    "    total_results = int(query_spans[1].text.replace(',', ''))\n",
    "print(\"{} Displaying {} of {}\".format(\n",
    "    \"Found results!\" if total_results > 0 else \"No results found...\",\n",
    "    len(query_results),\n",
    "    total_results\n",
    "    )\n",
    ")"
   ]
  },
  {
   "cell_type": "code",
   "execution_count": 18,
   "metadata": {},
   "outputs": [],
   "source": [
    "# Close browser\n",
    "browser.quit()"
   ]
  },
  {
   "cell_type": "code",
   "execution_count": null,
   "metadata": {},
   "outputs": [],
   "source": []
  }
 ],
 "metadata": {
  "kernelspec": {
   "display_name": "Python 3",
   "language": "python",
   "name": "python3"
  },
  "language_info": {
   "codemirror_mode": {
    "name": "ipython",
    "version": 3
   },
   "file_extension": ".py",
   "mimetype": "text/x-python",
   "name": "python",
   "nbconvert_exporter": "python",
   "pygments_lexer": "ipython3",
   "version": "3.8.3"
  }
 },
 "nbformat": 4,
 "nbformat_minor": 4
}
