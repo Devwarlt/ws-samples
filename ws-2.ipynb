{
 "cells": [
  {
   "cell_type": "code",
   "execution_count": 1,
   "metadata": {},
   "outputs": [],
   "source": [
    "from splinter import Browser\n",
    "from splinter.driver.webdriver import WebDriverElement\n",
    "from selenium import webdriver\n",
    "import time, re"
   ]
  },
  {
   "cell_type": "code",
   "execution_count": 2,
   "metadata": {},
   "outputs": [],
   "source": [
    "def select_option_by_value(select:WebDriverElement, val:str)->type(None):\n",
    "    pattern = re.compile(r\"^.*(){str}$\".format(str=val))\n",
    "    select.click()\n",
    "    options = select.find_by_tag('option')\n",
    "    for i in range(0, len(options)):\n",
    "        option = options[i]\n",
    "        if pattern.match(option.value):\n",
    "            option.click()\n",
    "            break"
   ]
  },
  {
   "cell_type": "code",
   "execution_count": 3,
   "metadata": {},
   "outputs": [],
   "source": [
    "# Init Settings\n",
    "url = \"https://ieeexplore.ieee.org/Xplore/home.jsp\"\n",
    "is_headless = True\n",
    "search_opts = {\n",
    "    'page-delay': 3,\n",
    "    'item-1': {\n",
    "        'query': \"web scraping\",\n",
    "        'option': \"Abstract\"\n",
    "    },\n",
    "    'item-2': {\n",
    "        'query': \"python\",\n",
    "        'option': \"Abstract\"\n",
    "    },\n",
    "    'from': 2010,\n",
    "    'to': 2021\n",
    "}\n",
    "\n",
    "# Chrome Driver Settings\n",
    "options = webdriver.ChromeOptions()\n",
    "options.add_argument(\"--start-maximized\")\n",
    "cdriver_path = { 'executable_path':r'C:\\Users\\devwarlt\\Desktop\\Faculdade\\UNB - Pesquisador (arqs)\\Web Scraping\\chromedriver' }\n",
    "\n",
    "# Browser Settings\n",
    "browser = Browser(\"chrome\", **cdriver_path, headless = is_headless, options = options)"
   ]
  },
  {
   "cell_type": "code",
   "execution_count": 4,
   "metadata": {},
   "outputs": [],
   "source": [
    "# Access page\n",
    "browser.visit(url)"
   ]
  },
  {
   "cell_type": "code",
   "execution_count": 5,
   "metadata": {},
   "outputs": [],
   "source": [
    "# Remove cookie banner\n",
    "browser.find_by_css('div[class=\"cc-compliance\"] a[class=\"cc-btn cc-dismiss\"]').click()"
   ]
  },
  {
   "cell_type": "code",
   "execution_count": 6,
   "metadata": {},
   "outputs": [],
   "source": [
    "# Click on Advanced Search\n",
    "browser.links.find_by_partial_href('advanced').click()"
   ]
  },
  {
   "cell_type": "code",
   "execution_count": 7,
   "metadata": {},
   "outputs": [],
   "source": [
    "# Awaits until IEEE loads rest of forms\n",
    "time.sleep(search_opts['page-delay'])"
   ]
  },
  {
   "cell_type": "code",
   "execution_count": 8,
   "metadata": {},
   "outputs": [
    {
     "name": "stdout",
     "output_type": "stream",
     "text": [
      "total forms -> 3\n"
     ]
    }
   ],
   "source": [
    "forms = browser.find_by_tag('form')\n",
    "print(\"total forms -> {}\".format(len(forms)))"
   ]
  },
  {
   "cell_type": "code",
   "execution_count": 9,
   "metadata": {},
   "outputs": [
    {
     "name": "stdout",
     "output_type": "stream",
     "text": [
      "total inputs -> 7\n",
      "total selects -> 5\n"
     ]
    }
   ],
   "source": [
    "# Get valid inputs & selects\n",
    "adv_form = forms.last\n",
    "adv_form_inputs = adv_form.find_by_tag('input')\n",
    "adv_form_selects = adv_form.find_by_tag('select')\n",
    "print(\"total inputs -> {}\".format(len(adv_form_inputs)))\n",
    "print(\"total selects -> {}\".format(len(adv_form_selects)))"
   ]
  },
  {
   "cell_type": "code",
   "execution_count": 10,
   "metadata": {},
   "outputs": [
    {
     "name": "stdout",
     "output_type": "stream",
     "text": [
      "input (type: <class 'splinter.driver.webdriver.WebDriverElement'>)\n",
      "select (type: <class 'splinter.driver.webdriver.WebDriverElement'>)\n"
     ]
    }
   ],
   "source": [
    "# Fill specific inputs\n",
    "adv_form_inputs[0].fill(search_opts['item-1']['query']);\n",
    "adv_form_inputs[1].fill(search_opts['item-2']['query']);\n",
    "print(\"input (type: {})\".format(type(adv_form_inputs[0])))\n",
    "print(\"select (type: {})\".format(type(adv_form_selects[0])))"
   ]
  },
  {
   "cell_type": "code",
   "execution_count": 11,
   "metadata": {},
   "outputs": [],
   "source": [
    "# Select specific options\n",
    "select_option_by_value(adv_form_selects[0], search_opts['item-1']['option']);\n",
    "select_option_by_value(adv_form_selects[2], search_opts['item-2']['option']);"
   ]
  },
  {
   "cell_type": "code",
   "execution_count": 12,
   "metadata": {},
   "outputs": [
    {
     "name": "stdout",
     "output_type": "stream",
     "text": [
      "total X btns -> 2\n"
     ]
    }
   ],
   "source": [
    "# Get specific elements to remove\n",
    "adv_form_to_rmv = adv_form.find_by_css('div i[class=\"fa fa-times\"]')\n",
    "print(\"total X btns -> {}\".format(len(adv_form_to_rmv)))"
   ]
  },
  {
   "cell_type": "code",
   "execution_count": 13,
   "metadata": {},
   "outputs": [],
   "source": [
    "# Remove specific element\n",
    "adv_form_to_rmv.last.click()"
   ]
  },
  {
   "cell_type": "code",
   "execution_count": 14,
   "metadata": {},
   "outputs": [],
   "source": [
    "# Chose 'Specify Year Range' option\n",
    "adv_form.find_by_xpath('//span[text()=\"Specify Year Range\"]').click()"
   ]
  },
  {
   "cell_type": "code",
   "execution_count": 15,
   "metadata": {},
   "outputs": [
    {
     "name": "stdout",
     "output_type": "stream",
     "text": [
      "total from-to inputs -> 2\n"
     ]
    }
   ],
   "source": [
    "# Get from-to input fields\n",
    "adv_syr_inputs = adv_form.find_by_css('span[class=\"row\"] span input[type=\"text\"]')\n",
    "print(\"total from-to inputs -> {}\".format(len(adv_syr_inputs)))"
   ]
  },
  {
   "cell_type": "code",
   "execution_count": 16,
   "metadata": {},
   "outputs": [],
   "source": [
    "adv_syr_inputs[0].fill(search_opts['from'])\n",
    "adv_syr_inputs[1].fill(search_opts['to'])"
   ]
  },
  {
   "cell_type": "code",
   "execution_count": 17,
   "metadata": {},
   "outputs": [],
   "source": [
    "# Search\n",
    "adv_form.find_by_css('div[class=\"submit-box\"] button[type=\"submit\"]').click()"
   ]
  },
  {
   "cell_type": "code",
   "execution_count": 18,
   "metadata": {},
   "outputs": [],
   "source": [
    "# Awaits until IEEE render search query\n",
    "time.sleep(search_opts['page-delay'])"
   ]
  },
  {
   "cell_type": "code",
   "execution_count": 19,
   "metadata": {},
   "outputs": [
    {
     "name": "stdout",
     "output_type": "stream",
     "text": [
      "Found results! Displaying 12 of 12\n"
     ]
    }
   ],
   "source": [
    "# Count results\n",
    "query_results = browser.find_by_css('div[class=\"List-results-items\"]')\n",
    "total_results = 0\n",
    "query_spans = browser.find_by_css(\n",
    "    'section div[class=\"Dashboard-section Dashboard-section-gray\"] ' +\n",
    "    'div[class=\"Dashboard-header col-12\"] span span[class=\"strong\"]'\n",
    ")\n",
    "if len(query_spans) > 1:\n",
    "    total_results = int(query_spans[1].text.replace(',', ''))\n",
    "print(\"{} Displaying {} of {}\".format(\n",
    "    \"Found results!\" if total_results > 0 else \"No results found...\",\n",
    "    len(query_results),\n",
    "    total_results\n",
    "    )\n",
    ")"
   ]
  },
  {
   "cell_type": "code",
   "execution_count": 20,
   "metadata": {},
   "outputs": [],
   "source": [
    "# Close browser\n",
    "browser.quit()"
   ]
  }
 ],
 "metadata": {
  "kernelspec": {
   "display_name": "Python 3",
   "language": "python",
   "name": "python3"
  },
  "language_info": {
   "codemirror_mode": {
    "name": "ipython",
    "version": 3
   },
   "file_extension": ".py",
   "mimetype": "text/x-python",
   "name": "python",
   "nbconvert_exporter": "python",
   "pygments_lexer": "ipython3",
   "version": "3.8.3"
  }
 },
 "nbformat": 4,
 "nbformat_minor": 4
}
